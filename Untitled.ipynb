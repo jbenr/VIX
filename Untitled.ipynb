{
 "cells": [
  {
   "cell_type": "code",
   "execution_count": 1,
   "id": "ceb61526-9813-4c54-a598-9f04bec1840f",
   "metadata": {},
   "outputs": [],
   "source": [
    "import blpapi\n",
    "from xbbg import blp\n",
    "from datetime import datetime,timedelta\n",
    "from tabulate import tabulate, tabulate_formats"
   ]
  },
  {
   "cell_type": "code",
   "execution_count": 4,
   "id": "9da0b831-b7a7-49ba-b54f-385f27ab78f4",
   "metadata": {},
   "outputs": [
    {
     "data": {
      "text/plain": [
       "datetime.datetime(2023, 8, 2, 18, 57, 55, 557982)"
      ]
     },
     "execution_count": 4,
     "metadata": {},
     "output_type": "execute_result"
    }
   ],
   "source": [
    "dtt = datetime.utcnow()\n",
    "tick = 'UXAUG1 Index'\n",
    "dtt"
   ]
  },
  {
   "cell_type": "code",
   "execution_count": null,
   "id": "2e7f8336-e771-4656-a393-c5382cc2561b",
   "metadata": {},
   "outputs": [],
   "source": [
    "blp.active_futures("
   ]
  },
  {
   "cell_type": "code",
   "execution_count": null,
   "id": "8b2cdc12-1fd9-42e3-9006-a28a1be94073",
   "metadata": {},
   "outputs": [],
   "source": [
    "df = blp.bdib(ticker=tick,time_range=(dtt-timedelta(minutes=1),dtt),dt=dtt)\n",
    "df.tail(1)"
   ]
  },
  {
   "cell_type": "code",
   "execution_count": 23,
   "id": "f1ee43bf-644d-4188-8a5a-07d588dda080",
   "metadata": {},
   "outputs": [
    {
     "name": "stdout",
     "output_type": "stream",
     "text": [
      "UXAUG1 Index\n"
     ]
    },
    {
     "data": {
      "text/plain": [
       "16.82"
      ]
     },
     "execution_count": 23,
     "metadata": {},
     "output_type": "execute_result"
    }
   ],
   "source": [
    "print(tick)\n",
    "df.iloc[-1][df.columns[3]]"
   ]
  },
  {
   "cell_type": "code",
   "execution_count": null,
   "id": "46f76911-7f48-4813-b6d5-e4751b9c05c3",
   "metadata": {},
   "outputs": [],
   "source": []
  }
 ],
 "metadata": {
  "kernelspec": {
   "display_name": "Python 3 (ipykernel)",
   "language": "python",
   "name": "python3"
  },
  "language_info": {
   "codemirror_mode": {
    "name": "ipython",
    "version": 3
   },
   "file_extension": ".py",
   "mimetype": "text/x-python",
   "name": "python",
   "nbconvert_exporter": "python",
   "pygments_lexer": "ipython3",
   "version": "3.9.4"
  }
 },
 "nbformat": 4,
 "nbformat_minor": 5
}
